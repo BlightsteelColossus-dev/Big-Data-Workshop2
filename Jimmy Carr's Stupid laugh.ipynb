{
 "cells": [
  {
   "cell_type": "code",
   "execution_count": 1,
   "id": "ef1ddee8",
   "metadata": {},
   "outputs": [],
   "source": [
    "import findspark\n",
    "\n",
    "findspark.init()"
   ]
  },
  {
   "cell_type": "code",
   "execution_count": 2,
   "id": "888a8c63",
   "metadata": {},
   "outputs": [
    {
     "name": "stdout",
     "output_type": "stream",
     "text": [
      "+-----+\n",
      "|hello|\n",
      "+-----+\n",
      "|spark|\n",
      "+-----+\n",
      "\n"
     ]
    }
   ],
   "source": [
    "import pyspark \n",
    "\n",
    "from pyspark.sql import SparkSession\n",
    "\n",
    "spark = SparkSession.builder.getOrCreate()\n",
    "\n",
    "df = spark.sql(\"Select 'spark' as hello \")\n",
    "\n",
    "df.show()"
   ]
  },
  {
   "cell_type": "code",
   "execution_count": 4,
   "id": "b4e1004d",
   "metadata": {},
   "outputs": [
    {
     "name": "stdout",
     "output_type": "stream",
     "text": [
      "+------+------+------+---+-------+-------+\n",
      "|   _c0|   _c1|   _c2|_c3|    _c4|    _c5|\n",
      "+------+------+------+---+-------+-------+\n",
      "|Number|  City|Gender|Age| Income|Illness|\n",
      "|     1|Dallas|  Male| 41|40367.0|     No|\n",
      "|     2|Dallas|  Male| 54|45084.0|     No|\n",
      "|     3|Dallas|  Male| 42|52483.0|     No|\n",
      "|     4|Dallas|  Male| 40|40941.0|     No|\n",
      "|     5|Dallas|  Male| 46|50289.0|     No|\n",
      "|     6|Dallas|Female| 36|50786.0|     No|\n",
      "|     7|Dallas|Female| 32|33155.0|     No|\n",
      "|     8|Dallas|  Male| 39|30914.0|     No|\n",
      "|     9|Dallas|  Male| 51|68667.0|     No|\n",
      "|    10|Dallas|Female| 30|50082.0|     No|\n",
      "|    11|Dallas|Female| 48|41524.0|    Yes|\n",
      "|    12|Dallas|  Male| 47|54777.0|     No|\n",
      "|    13|Dallas|  Male| 46|62749.0|     No|\n",
      "|    14|Dallas|Female| 42|50894.0|     No|\n",
      "|    15|Dallas|Female| 61|38429.0|     No|\n",
      "|    16|Dallas|  Male| 43|34074.0|     No|\n",
      "|    17|Dallas|  Male| 27|50398.0|     No|\n",
      "|    18|Dallas|  Male| 38|46373.0|    Yes|\n",
      "|    19|Dallas|  Male| 47|51137.0|     No|\n",
      "+------+------+------+---+-------+-------+\n",
      "only showing top 20 rows\n",
      "\n"
     ]
    }
   ],
   "source": [
    "df = spark.read.csv(\"toy_dataset.csv\")\n",
    "df.show()"
   ]
  },
  {
   "cell_type": "code",
   "execution_count": 5,
   "id": "7092bded",
   "metadata": {},
   "outputs": [
    {
     "name": "stdout",
     "output_type": "stream",
     "text": [
      "root\n",
      " |-- _c0: string (nullable = true)\n",
      " |-- _c1: string (nullable = true)\n",
      " |-- _c2: string (nullable = true)\n",
      " |-- _c3: string (nullable = true)\n",
      " |-- _c4: string (nullable = true)\n",
      " |-- _c5: string (nullable = true)\n",
      "\n"
     ]
    }
   ],
   "source": []
  },
  {
   "cell_type": "code",
   "execution_count": 6,
   "id": "626d5180",
   "metadata": {},
   "outputs": [],
   "source": [
    "df = spark.read.csv(\"toy_dataset.csv\",inferSchema=True,header=True)"
   ]
  },
  {
   "cell_type": "code",
   "execution_count": 7,
   "id": "fad5e268",
   "metadata": {},
   "outputs": [
    {
     "name": "stdout",
     "output_type": "stream",
     "text": [
      "root\n",
      " |-- Number: integer (nullable = true)\n",
      " |-- City: string (nullable = true)\n",
      " |-- Gender: string (nullable = true)\n",
      " |-- Age: integer (nullable = true)\n",
      " |-- Income: double (nullable = true)\n",
      " |-- Illness: string (nullable = true)\n",
      "\n"
     ]
    }
   ],
   "source": [
    "df.printSchema()"
   ]
  },
  {
   "cell_type": "code",
   "execution_count": 8,
   "id": "bac7794a",
   "metadata": {},
   "outputs": [
    {
     "name": "stdout",
     "output_type": "stream",
     "text": [
      "+------+------+------+---+-------+-------+\n",
      "|Number|  City|Gender|Age| Income|Illness|\n",
      "+------+------+------+---+-------+-------+\n",
      "|     1|Dallas|  Male| 41|40367.0|     No|\n",
      "|     2|Dallas|  Male| 54|45084.0|     No|\n",
      "|     3|Dallas|  Male| 42|52483.0|     No|\n",
      "|     4|Dallas|  Male| 40|40941.0|     No|\n",
      "|     5|Dallas|  Male| 46|50289.0|     No|\n",
      "|     6|Dallas|Female| 36|50786.0|     No|\n",
      "|     7|Dallas|Female| 32|33155.0|     No|\n",
      "|     8|Dallas|  Male| 39|30914.0|     No|\n",
      "|     9|Dallas|  Male| 51|68667.0|     No|\n",
      "|    10|Dallas|Female| 30|50082.0|     No|\n",
      "|    11|Dallas|Female| 48|41524.0|    Yes|\n",
      "|    12|Dallas|  Male| 47|54777.0|     No|\n",
      "|    13|Dallas|  Male| 46|62749.0|     No|\n",
      "|    14|Dallas|Female| 42|50894.0|     No|\n",
      "|    15|Dallas|Female| 61|38429.0|     No|\n",
      "|    16|Dallas|  Male| 43|34074.0|     No|\n",
      "|    17|Dallas|  Male| 27|50398.0|     No|\n",
      "|    18|Dallas|  Male| 38|46373.0|    Yes|\n",
      "|    19|Dallas|  Male| 47|51137.0|     No|\n",
      "|    20|Dallas|Female| 35|23688.0|     No|\n",
      "+------+------+------+---+-------+-------+\n",
      "only showing top 20 rows\n",
      "\n"
     ]
    }
   ],
   "source": [
    "df.show()"
   ]
  },
  {
   "cell_type": "code",
   "execution_count": 9,
   "id": "1734925d",
   "metadata": {},
   "outputs": [
    {
     "data": {
      "text/plain": [
       "150000"
      ]
     },
     "execution_count": 9,
     "metadata": {},
     "output_type": "execute_result"
    }
   ],
   "source": [
    "df.count()"
   ]
  },
  {
   "cell_type": "code",
   "execution_count": 12,
   "id": "fcd91b56",
   "metadata": {},
   "outputs": [
    {
     "data": {
      "text/plain": [
       "83800"
      ]
     },
     "execution_count": 12,
     "metadata": {},
     "output_type": "execute_result"
    }
   ],
   "source": [
    "# filter\n",
    "df.filter(df.Gender == \"Male\").count()"
   ]
  },
  {
   "cell_type": "code",
   "execution_count": 13,
   "id": "e1154512",
   "metadata": {},
   "outputs": [],
   "source": [
    "totalentries = df.count()"
   ]
  },
  {
   "cell_type": "code",
   "execution_count": 17,
   "id": "c90afccf",
   "metadata": {
    "scrolled": true
   },
   "outputs": [
    {
     "name": "stdout",
     "output_type": "stream",
     "text": [
      "+------+------+------+---+-------+-------+\n",
      "|Number|  City|Gender|Age| Income|Illness|\n",
      "+------+------+------+---+-------+-------+\n",
      "|     6|Dallas|Female| 36|50786.0|     No|\n",
      "|   383|Dallas|Female| 61|50266.0|     No|\n",
      "|   696|Dallas|Female| 63|46860.0|     No|\n",
      "|   729|Dallas|  Male| 46|44701.0|     No|\n",
      "|   763|Dallas|  Male| 35|49869.0|     No|\n",
      "|   886|Dallas|  Male| 59|32401.0|     No|\n",
      "|   940|Dallas|Female| 28|32576.0|     No|\n",
      "|  1125|Dallas|  Male| 61|54879.0|     No|\n",
      "|  1644|Dallas|  Male| 44|48021.0|     No|\n",
      "|  1712|Dallas|  Male| 53|60702.0|     No|\n",
      "|  1762|Dallas|  Male| 36|45549.0|     No|\n",
      "|  2080|Dallas|Female| 59|43901.0|     No|\n",
      "|  2091|Dallas|Female| 62|46546.0|     No|\n",
      "|  2237|Dallas|Female| 41|61151.0|     No|\n",
      "|  2368|Dallas|Female| 47|32610.0|     No|\n",
      "|  2511|Dallas|  Male| 59|61450.0|     No|\n",
      "|  2515|Dallas|Female| 32|33657.0|     No|\n",
      "|  2599|Dallas|Female| 38|35641.0|     No|\n",
      "|  2889|Dallas|Female| 49|36986.0|     No|\n",
      "|  3050|Dallas|  Male| 61|42072.0|     No|\n",
      "+------+------+------+---+-------+-------+\n",
      "only showing top 20 rows\n",
      "\n"
     ]
    }
   ],
   "source": [
    "df2 = df.sample(0.01)\n",
    "df2.show()"
   ]
  },
  {
   "cell_type": "code",
   "execution_count": 18,
   "id": "575688b2",
   "metadata": {},
   "outputs": [
    {
     "name": "stdout",
     "output_type": "stream",
     "text": [
      "+---------------+-----+\n",
      "|           City|count|\n",
      "+---------------+-----+\n",
      "|         Dallas|19707|\n",
      "|    Los Angeles|32173|\n",
      "|      San Diego| 4881|\n",
      "|         Austin|12292|\n",
      "|  New York City|50307|\n",
      "|Washington D.C.| 8120|\n",
      "|  Mountain View|14219|\n",
      "|         Boston| 8301|\n",
      "+---------------+-----+\n",
      "\n"
     ]
    }
   ],
   "source": [
    "df.groupBy(\"City\").count().show()"
   ]
  },
  {
   "cell_type": "code",
   "execution_count": 19,
   "id": "0f8e9283",
   "metadata": {},
   "outputs": [
    {
     "data": {
      "text/plain": [
       "8"
      ]
     },
     "execution_count": 19,
     "metadata": {},
     "output_type": "execute_result"
    }
   ],
   "source": [
    "df.groupBy(\"City\").count().count()"
   ]
  },
  {
   "cell_type": "code",
   "execution_count": 24,
   "id": "69436359",
   "metadata": {},
   "outputs": [
    {
     "name": "stdout",
     "output_type": "stream",
     "text": [
      "+-------+------+\n",
      "|Illness| count|\n",
      "+-------+------+\n",
      "|     No|137861|\n",
      "|    Yes| 12139|\n",
      "+-------+------+\n",
      "\n"
     ]
    }
   ],
   "source": [
    "df2 = df.groupBy(\"Illness\").count()\n",
    "df2.show()"
   ]
  },
  {
   "cell_type": "code",
   "execution_count": 26,
   "id": "ecde23ba",
   "metadata": {},
   "outputs": [
    {
     "data": {
      "text/plain": [
       "Row(count=137861)"
      ]
     },
     "execution_count": 26,
     "metadata": {},
     "output_type": "execute_result"
    }
   ],
   "source": [
    "# row to grow\n",
    "rows[0]"
   ]
  },
  {
   "cell_type": "code",
   "execution_count": 27,
   "id": "ffff6b7c",
   "metadata": {},
   "outputs": [
    {
     "name": "stdout",
     "output_type": "stream",
     "text": [
      "<class 'pyspark.sql.types.Row'>\n"
     ]
    }
   ],
   "source": [
    "print(type(rows[0]))"
   ]
  },
  {
   "cell_type": "code",
   "execution_count": 33,
   "id": "eb3c89a0",
   "metadata": {},
   "outputs": [
    {
     "name": "stdout",
     "output_type": "stream",
     "text": [
      "56 % male : 44 % female\n"
     ]
    }
   ],
   "source": [
    "rows = df.groupBy(\"Gender\").count().select(\"count\").collect() \n",
    "females = rows[0][0]\n",
    "males = rows[1][0]\n",
    "total = males+females\n",
    "percentmales = round((males/total) * 100)\n",
    "percentfemales = round((females/total) * 100)\n",
    "print('{0:0d} % male : {1:0d} % female'.format(percentmales,percentfemales))"
   ]
  },
  {
   "cell_type": "code",
   "execution_count": 41,
   "id": "5d4135fa",
   "metadata": {},
   "outputs": [
    {
     "name": "stdout",
     "output_type": "stream",
     "text": [
      "+---------------+-----+\n",
      "|           City|count|\n",
      "+---------------+-----+\n",
      "|  New York City| 4021|\n",
      "|    Los Angeles| 2568|\n",
      "|         Dallas| 1613|\n",
      "|  Mountain View| 1178|\n",
      "|         Austin| 1011|\n",
      "|         Boston|  686|\n",
      "|Washington D.C.|  668|\n",
      "|      San Diego|  394|\n",
      "+---------------+-----+\n",
      "\n"
     ]
    }
   ],
   "source": [
    "from pyspark.sql.functions import col, asc,desc\n",
    "df2 = df.where(df.Illness==\"Yes\").groupBy(df.City).count().sort(col(\"count\").desc())\n",
    "df2.show()"
   ]
  },
  {
   "cell_type": "code",
   "execution_count": 42,
   "id": "5cf8c841",
   "metadata": {},
   "outputs": [
    {
     "name": "stdout",
     "output_type": "stream",
     "text": [
      "-RECORD 0--------------------------------\n",
      " Mean Unwell Income  | 91277.8753604086  \n",
      " Mean Healthy Income | 91250.59017416093 \n",
      "\n"
     ]
    }
   ],
   "source": [
    "from pyspark.sql.functions import mean\n",
    "averageill = df.filter(df.Illness==\"Yes\").select(mean(\"Income\")).withColumnRenamed(\"avg(Income)\",\"Mean Unwell Income\")\n",
    "averagehealthy = df.filter(df.Illness==\"No\").select(mean(\"Income\")).withColumnRenamed(\"avg(Income)\",\"Mean Healthy Income\")\n",
    "averageill.join(averagehealthy).show(vertical=True)"
   ]
  },
  {
   "cell_type": "code",
   "execution_count": 45,
   "id": "cbd4e49a",
   "metadata": {},
   "outputs": [
    {
     "name": "stdout",
     "output_type": "stream",
     "text": [
      "+------+------+------+---+-------+-------+\n",
      "|Number|  City|Gender|Age| Income|Illness|\n",
      "+------+------+------+---+-------+-------+\n",
      "|    11|Dallas|Female| 48|41524.0|    Yes|\n",
      "|    18|Dallas|  Male| 38|46373.0|    Yes|\n",
      "|    24|Dallas|Female| 27|34292.0|    Yes|\n",
      "|    30|Dallas|  Male| 45|47421.0|    Yes|\n",
      "+------+------+------+---+-------+-------+\n",
      "only showing top 4 rows\n",
      "\n"
     ]
    }
   ],
   "source": [
    "df.filter(df.Illness==\"Yes\").show(n=4)"
   ]
  },
  {
   "cell_type": "code",
   "execution_count": 46,
   "id": "75ea89fa",
   "metadata": {},
   "outputs": [
    {
     "name": "stdout",
     "output_type": "stream",
     "text": [
      "+---+\n",
      "|Age|\n",
      "+---+\n",
      "| 48|\n",
      "| 38|\n",
      "| 27|\n",
      "| 45|\n",
      "+---+\n",
      "only showing top 4 rows\n",
      "\n"
     ]
    }
   ],
   "source": [
    "df.filter(df.Illness==\"Yes\").select(\"Age\").show(n=4)"
   ]
  },
  {
   "cell_type": "code",
   "execution_count": 48,
   "id": "42c3c303",
   "metadata": {},
   "outputs": [
    {
     "name": "stdout",
     "output_type": "stream",
     "text": [
      "+-------+------------------+\n",
      "|summary|               Age|\n",
      "+-------+------------------+\n",
      "|  count|             12139|\n",
      "|   mean| 45.02084191449048|\n",
      "| stddev|11.554129904969162|\n",
      "|    min|                25|\n",
      "|    25%|                35|\n",
      "|    50%|                45|\n",
      "|    75%|                55|\n",
      "|    max|                65|\n",
      "+-------+------------------+\n",
      "\n"
     ]
    }
   ],
   "source": [
    "df.filter(df.Illness==\"Yes\").select(\"Age\").summary().show()"
   ]
  },
  {
   "cell_type": "code",
   "execution_count": 49,
   "id": "dfc4d2d8",
   "metadata": {},
   "outputs": [
    {
     "name": "stdout",
     "output_type": "stream",
     "text": [
      "+------+-------------+------+---+--------+-------+\n",
      "|Number|         City|Gender|Age|  Income|Illness|\n",
      "+------+-------------+------+---+--------+-------+\n",
      "|109681|Mountain View|  Male| 65|128235.0|     No|\n",
      "|111720|Mountain View|Female| 65|141970.0|     No|\n",
      "|109693|Mountain View|Female| 65|134403.0|     No|\n",
      "|109331|Mountain View|Female| 65|141513.0|     No|\n",
      "|109733|Mountain View|Female| 65|134292.0|     No|\n",
      "|109602|Mountain View|Female| 65|120683.0|     No|\n",
      "|109776|Mountain View|  Male| 65|143252.0|     No|\n",
      "|109660|Mountain View|Female| 65|125563.0|     No|\n",
      "|109948|Mountain View|Female| 65|137848.0|     No|\n",
      "|110829|Mountain View|  Male| 65|135814.0|     No|\n",
      "|111683|Mountain View|Female| 65|132820.0|     No|\n",
      "|110832|Mountain View|Female| 65|136950.0|     No|\n",
      "|109679|Mountain View|  Male| 65|138095.0|     No|\n",
      "|110967|Mountain View|Female| 65|116875.0|     No|\n",
      "|109956|Mountain View|  Male| 65|129640.0|     No|\n",
      "|111012|Mountain View|Female| 65|120274.0|     No|\n",
      "|110248|Mountain View|  Male| 65|138851.0|     No|\n",
      "|111015|Mountain View|  Male| 65|144923.0|     No|\n",
      "|110518|Mountain View|Female| 65|117938.0|     No|\n",
      "|111292|Mountain View|  Male| 65|152978.0|     No|\n",
      "+------+-------------+------+---+--------+-------+\n",
      "only showing top 20 rows\n",
      "\n"
     ]
    }
   ],
   "source": [
    "from pyspark.sql.functions import col, asc,desc\n",
    "df.filter(df.Illness==\"No\").sort(col(\"Age\").desc()).show()"
   ]
  },
  {
   "cell_type": "code",
   "execution_count": 51,
   "id": "0c323ed1",
   "metadata": {},
   "outputs": [
    {
     "name": "stdout",
     "output_type": "stream",
     "text": [
      "+--------+\n",
      "|max(Age)|\n",
      "+--------+\n",
      "|      65|\n",
      "+--------+\n",
      "\n"
     ]
    }
   ],
   "source": [
    "from pyspark.sql.functions import max\n",
    "df.select(max(\"Age\")).show()"
   ]
  },
  {
   "cell_type": "code",
   "execution_count": null,
   "id": "2adbba88",
   "metadata": {},
   "outputs": [],
   "source": []
  }
 ],
 "metadata": {
  "kernelspec": {
   "display_name": "Python 3 (ipykernel)",
   "language": "python",
   "name": "python3"
  },
  "language_info": {
   "codemirror_mode": {
    "name": "ipython",
    "version": 3
   },
   "file_extension": ".py",
   "mimetype": "text/x-python",
   "name": "python",
   "nbconvert_exporter": "python",
   "pygments_lexer": "ipython3",
   "version": "3.8.12"
  }
 },
 "nbformat": 4,
 "nbformat_minor": 5
}
